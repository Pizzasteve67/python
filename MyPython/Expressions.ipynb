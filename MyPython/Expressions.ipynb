{
 "cells": [
  {
   "cell_type": "markdown",
   "id": "200167f6",
   "metadata": {},
   "source": [
    "### Area of Rectangle Challenge"
   ]
  },
  {
   "cell_type": "code",
   "execution_count": 3,
   "id": "d03e773d",
   "metadata": {},
   "outputs": [
    {
     "name": "stdout",
     "output_type": "stream",
     "text": [
      "What is the length of the rectangle5\n",
      "what is the breadth of the rectangle6\n",
      "The length of the area is 30\n"
     ]
    }
   ],
   "source": [
    "length = int(input(\"What is the length of the rectangle\"))\n",
    "breadth = int(input(\"what is the breadth of the rectangle\"))\n",
    "\n",
    "area = length * breadth\n",
    "print(\"The length of the area is \"+ str(area))"
   ]
  },
  {
   "cell_type": "markdown",
   "id": "4ef51726",
   "metadata": {},
   "source": [
    "### Area of Triangle"
   ]
  },
  {
   "cell_type": "code",
   "execution_count": 16,
   "id": "179727b5",
   "metadata": {},
   "outputs": [
    {
     "name": "stdout",
     "output_type": "stream",
     "text": [
      "What is the base of the triangle5\n",
      "What is the height of the triangle2\n",
      "Area of triangle is  5.0\n"
     ]
    }
   ],
   "source": [
    "base = int(input(\"What is the base of the triangle\"))\n",
    "height = int(input(\"What is the height of the triangle\"))\n",
    "\n",
    "area = 1/2 * base * height \n",
    "print(\"Area of triangle is \", area)"
   ]
  },
  {
   "cell_type": "markdown",
   "id": "5f1d1b0e",
   "metadata": {},
   "source": [
    "### Area of Rhombus"
   ]
  },
  {
   "cell_type": "code",
   "execution_count": 11,
   "id": "333bfc96",
   "metadata": {},
   "outputs": [
    {
     "name": "stdout",
     "output_type": "stream",
     "text": [
      "What is the length of side 1 of rhombus5\n",
      "What is the length of side 2 of rhombus10\n",
      "What is the height of rhombus7\n",
      "Area of Rhombus is  52.5\n"
     ]
    }
   ],
   "source": [
    "side1 = int(input(\"What is the length of side 1 of rhombus\"))\n",
    "side2 = int(input(\"What is the length of side 2 of rhombus\"))\n",
    "height = int(input(\"What is the height of rhombus\"))\n",
    "\n",
    "area = 1/2 * (side1 + side2) * height\n",
    "print(\"Area of Rhombus is \", area)"
   ]
  },
  {
   "cell_type": "markdown",
   "id": "a6204474",
   "metadata": {},
   "source": [
    "### Displacement"
   ]
  },
  {
   "cell_type": "code",
   "execution_count": 15,
   "id": "f4a39f56",
   "metadata": {},
   "outputs": [
    {
     "name": "stdout",
     "output_type": "stream",
     "text": [
      "What is the final velocity20\n",
      "What is the initial velocity5\n",
      "What is the acceleration6\n",
      "Displacement of object is  31.25\n"
     ]
    }
   ],
   "source": [
    "v = int(input(\"What is the final velocity\"))\n",
    "u = int(input(\"What is the initial velocity\"))\n",
    "a = int(input(\"What is the acceleration\"))\n",
    "\n",
    "displacement = (v ** 2 - u ** 2)/ (2 * a)\n",
    "print(\"Displacement of object is \", displacement)"
   ]
  },
  {
   "cell_type": "markdown",
   "id": "f371ed4d",
   "metadata": {},
   "source": [
    "### Kilometers to Miles"
   ]
  },
  {
   "cell_type": "code",
   "execution_count": 19,
   "id": "9e123589",
   "metadata": {},
   "outputs": [
    {
     "name": "stdout",
     "output_type": "stream",
     "text": [
      "How many km do you want to conver to miles?2.4\n",
      "2.4 kilometers is  1.4912904 miles\n"
     ]
    }
   ],
   "source": [
    "# 1km = 0.621371 miles\n",
    "\n",
    "km = float(input(\"How many km do you want to conver to miles?\"))\n",
    "miles = km * 0.621371\n",
    "\n",
    "print(km, \"kilometers is \", miles, \"miles\")"
   ]
  },
  {
   "cell_type": "markdown",
   "id": "f004f48c",
   "metadata": {},
   "source": [
    "### Area of Circle"
   ]
  },
  {
   "cell_type": "code",
   "execution_count": 21,
   "id": "4e20e26e",
   "metadata": {},
   "outputs": [
    {
     "name": "stdout",
     "output_type": "stream",
     "text": [
      "what is the radius of the circle10\n",
      "Area of the circle is  314.1592653589793\n"
     ]
    }
   ],
   "source": [
    "import math \n",
    "\n",
    "radius = float(input(\"what is the radius of the circle\"))\n",
    "area = math.pi * radius ** 2\n",
    "\n",
    "print(\"Area of the circle is \", area)"
   ]
  },
  {
   "cell_type": "markdown",
   "id": "5c1d18ef",
   "metadata": {},
   "source": [
    "### Quadratic Equations Solver"
   ]
  },
  {
   "cell_type": "code",
   "execution_count": 26,
   "id": "53cce8e0",
   "metadata": {},
   "outputs": [
    {
     "name": "stdout",
     "output_type": "stream",
     "text": [
      "type value1\n",
      "type value-5\n",
      "type value6\n",
      "Roots of equation are  3.0  and  2.0\n"
     ]
    }
   ],
   "source": [
    "import math\n",
    "\n",
    "a = float(input(\"type value\"))\n",
    "b = float(input(\"type value\"))\n",
    "c = float(input(\"type value\"))\n",
    "\n",
    "root1= (-b + math.sqrt(b**2 - 4 * a * c))/(2 * a)\n",
    "root2 = (-b - math.sqrt(b**2 - 4 * a * c))/(2 * a)\n",
    "\n",
    "print(\"Roots of equation are \", root1, \" and \", root2)"
   ]
  }
 ],
 "metadata": {
  "kernelspec": {
   "display_name": "Python 3",
   "language": "python",
   "name": "python3"
  },
  "language_info": {
   "codemirror_mode": {
    "name": "ipython",
    "version": 3
   },
   "file_extension": ".py",
   "mimetype": "text/x-python",
   "name": "python",
   "nbconvert_exporter": "python",
   "pygments_lexer": "ipython3",
   "version": "3.8.8"
  }
 },
 "nbformat": 4,
 "nbformat_minor": 5
}

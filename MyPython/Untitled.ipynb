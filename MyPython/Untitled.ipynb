{
 "cells": [
  {
   "cell_type": "markdown",
   "id": "feb68295",
   "metadata": {},
   "source": [
    "### Strings\n",
    "\n",
    "1. Array of characters\n",
    "2. indexed from 0\n",
    "3. len(s1) gets you the length of the string s1"
   ]
  },
  {
   "cell_type": "code",
   "execution_count": 2,
   "id": "947574a0",
   "metadata": {},
   "outputs": [
    {
     "data": {
      "text/plain": [
       "'Hello World'"
      ]
     },
     "execution_count": 2,
     "metadata": {},
     "output_type": "execute_result"
    }
   ],
   "source": [
    "# Concat\n",
    "s1 = \"Hello \"\n",
    "s2 = \"World\"\n",
    "\n",
    "s1 + s2"
   ]
  },
  {
   "cell_type": "code",
   "execution_count": 3,
   "id": "767f2c42",
   "metadata": {},
   "outputs": [
    {
     "data": {
      "text/plain": [
       "'Hi Hi Hi Hi Hi '"
      ]
     },
     "execution_count": 3,
     "metadata": {},
     "output_type": "execute_result"
    }
   ],
   "source": [
    "# Multiply\n",
    "s1 = \"Hi \"\n",
    "s1 * 5"
   ]
  },
  {
   "cell_type": "code",
   "execution_count": 6,
   "id": "121a3887",
   "metadata": {},
   "outputs": [
    {
     "data": {
      "text/plain": [
       "'o'"
      ]
     },
     "execution_count": 6,
     "metadata": {},
     "output_type": "execute_result"
    }
   ],
   "source": [
    "#Indexing\n",
    "s1 = \"Hello World\"\n",
    "s1[4]"
   ]
  },
  {
   "cell_type": "code",
   "execution_count": 12,
   "id": "e1457f56",
   "metadata": {},
   "outputs": [
    {
     "name": "stdout",
     "output_type": "stream",
     "text": [
      "H\n",
      "e\n",
      "l\n",
      "l\n",
      "o\n"
     ]
    }
   ],
   "source": [
    "#Length of string\n",
    "s1 = \"Hello\"\n",
    "\n",
    "for i in range(0, len(s1)):\n",
    "    print(s1[i])"
   ]
  },
  {
   "cell_type": "code",
   "execution_count": 15,
   "id": "369d8fa3",
   "metadata": {},
   "outputs": [
    {
     "name": "stdout",
     "output_type": "stream",
     "text": [
      "True\n",
      "True\n"
     ]
    }
   ],
   "source": [
    "# In and Not In\n",
    "s = \"ink\"\n",
    "\n",
    "print(\"i\" in s)\n",
    "print(\"z\" not in s)"
   ]
  },
  {
   "cell_type": "markdown",
   "id": "1105ffe9",
   "metadata": {},
   "source": [
    "### Class vs Object\n",
    "\n",
    "\n",
    "- Everything in python is object\n",
    "- Class is the definition of the object\n",
    "- Object is an instance of the class\n",
    "\n",
    "Class contains \n",
    "1. Data\n",
    "2. Operation/ Function (Called Methods)"
   ]
  },
  {
   "cell_type": "code",
   "execution_count": 20,
   "id": "532c6b04",
   "metadata": {},
   "outputs": [
    {
     "name": "stdout",
     "output_type": "stream",
     "text": [
      "<class 'str'>\n",
      "['__add__', '__class__', '__contains__', '__delattr__', '__dir__', '__doc__', '__eq__', '__format__', '__ge__', '__getattribute__', '__getitem__', '__getnewargs__', '__gt__', '__hash__', '__init__', '__init_subclass__', '__iter__', '__le__', '__len__', '__lt__', '__mod__', '__mul__', '__ne__', '__new__', '__reduce__', '__reduce_ex__', '__repr__', '__rmod__', '__rmul__', '__setattr__', '__sizeof__', '__str__', '__subclasshook__', 'capitalize', 'casefold', 'center', 'count', 'encode', 'endswith', 'expandtabs', 'find', 'format', 'format_map', 'index', 'isalnum', 'isalpha', 'isascii', 'isdecimal', 'isdigit', 'isidentifier', 'islower', 'isnumeric', 'isprintable', 'isspace', 'istitle', 'isupper', 'join', 'ljust', 'lower', 'lstrip', 'maketrans', 'partition', 'replace', 'rfind', 'rindex', 'rjust', 'rpartition', 'rsplit', 'rstrip', 'split', 'splitlines', 'startswith', 'strip', 'swapcase', 'title', 'translate', 'upper', 'zfill']\n"
     ]
    }
   ],
   "source": [
    "# Use dir to find all the methods of a class\n",
    "\n",
    "s = \"Hello World\"\n",
    "print(type(s))\n",
    "print(dir(str))"
   ]
  },
  {
   "cell_type": "code",
   "execution_count": 25,
   "id": "41ce76de",
   "metadata": {},
   "outputs": [
    {
     "name": "stdout",
     "output_type": "stream",
     "text": [
      "Help on built-in function isspace:\n",
      "\n",
      "isspace() method of builtins.str instance\n",
      "    Return True if the string is a whitespace string, False otherwise.\n",
      "    \n",
      "    A string is whitespace if all characters in the string are whitespace and there\n",
      "    is at least one character in the string.\n",
      "\n"
     ]
    }
   ],
   "source": [
    "#help for a method\n",
    "help(s.isspace)"
   ]
  },
  {
   "cell_type": "code",
   "execution_count": null,
   "id": "a4b29bfa",
   "metadata": {},
   "outputs": [],
   "source": []
  }
 ],
 "metadata": {
  "kernelspec": {
   "display_name": "Python 3",
   "language": "python",
   "name": "python3"
  },
  "language_info": {
   "codemirror_mode": {
    "name": "ipython",
    "version": 3
   },
   "file_extension": ".py",
   "mimetype": "text/x-python",
   "name": "python",
   "nbconvert_exporter": "python",
   "pygments_lexer": "ipython3",
   "version": "3.8.8"
  }
 },
 "nbformat": 4,
 "nbformat_minor": 5
}

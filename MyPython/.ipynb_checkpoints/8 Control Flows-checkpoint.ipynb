{
 "cells": [
  {
   "cell_type": "markdown",
   "id": "6e79f937",
   "metadata": {},
   "source": [
    "## Control Flow\n",
    "\n",
    "- while loop\n",
    "- for loop\n",
    "- continue, break, pass\n",
    "- infinite loop\n",
    "- match case"
   ]
  },
  {
   "cell_type": "code",
   "execution_count": 2,
   "id": "9a051473",
   "metadata": {},
   "outputs": [
    {
     "name": "stdout",
     "output_type": "stream",
     "text": [
      "0\n",
      "1\n",
      "2\n",
      "3\n",
      "4\n",
      "5\n"
     ]
    }
   ],
   "source": [
    "count = 0\n",
    "\n",
    "while count<6:\n",
    "    print(count)\n",
    "    count += 1"
   ]
  },
  {
   "cell_type": "markdown",
   "id": "5f6fd26c",
   "metadata": {},
   "source": [
    "## Multiplication table Challenge "
   ]
  },
  {
   "cell_type": "code",
   "execution_count": 6,
   "id": "14ef94db",
   "metadata": {},
   "outputs": [
    {
     "name": "stdout",
     "output_type": "stream",
     "text": [
      "Enter the number you want multiplication table for2\n",
      "1  X  2 =  2\n",
      "2  X  2 =  4\n",
      "3  X  2 =  6\n",
      "4  X  2 =  8\n",
      "5  X  2 =  10\n"
     ]
    }
   ],
   "source": [
    "n = int(input(\"Enter the number you want multiplication table for\"))\n",
    "count = 1\n",
    "\n",
    "while count <= 5:\n",
    "    print(count, \" X \", n, \"= \", n*count)\n",
    "    count += 1"
   ]
  },
  {
   "cell_type": "markdown",
   "id": "48231749",
   "metadata": {},
   "source": [
    "### Challenge\n",
    "\n",
    "1. Count the number of digits in a number\n",
    "2. Find the sum of digits in a number\n",
    "3. Reversing a number\n",
    "4. Check if a number is a Palindrome"
   ]
  },
  {
   "cell_type": "code",
   "execution_count": 11,
   "id": "3bc04acb",
   "metadata": {},
   "outputs": [
    {
     "name": "stdout",
     "output_type": "stream",
     "text": [
      "What is the number1000\n",
      "100\n",
      "10\n",
      "1\n",
      "0\n",
      "Number of digits are 4\n"
     ]
    }
   ],
   "source": [
    "#1\n",
    "no = int(input(\"What is the number\"))\n",
    "count = 0\n",
    "\n",
    "while no > 0:\n",
    "    no = no // 10\n",
    "    print(no)\n",
    "    count += 1\n",
    "\n",
    "print(\"Number of digits are\", count)"
   ]
  },
  {
   "cell_type": "code",
   "execution_count": 14,
   "id": "09c818f2",
   "metadata": {},
   "outputs": [
    {
     "name": "stdout",
     "output_type": "stream",
     "text": [
      "What is the number12345\n",
      "15\n"
     ]
    }
   ],
   "source": [
    "#2 \n",
    "no = int(input(\"What is the number\"))\n",
    "sum = 0\n",
    "\n",
    "while no > 0:\n",
    "    digit = no % 10\n",
    "    no = no // 10\n",
    "    sum = sum + digit\n",
    "    \n",
    "print(sum)"
   ]
  },
  {
   "cell_type": "code",
   "execution_count": 33,
   "id": "371f3fca",
   "metadata": {},
   "outputs": [
    {
     "name": "stdout",
     "output_type": "stream",
     "text": [
      "What is the number1234321\n",
      "1234321\n",
      "Palindrome\n"
     ]
    }
   ],
   "source": [
    "#3 \n",
    "no = int(input(\"What is the number\"))\n",
    "rev = 0\n",
    "a = no\n",
    "\n",
    "while no > 0:\n",
    "    r = no % 10\n",
    "    no = no // 10\n",
    "    rev = (rev * 10) + r \n",
    "    \n",
    "print(rev)\n",
    "\n",
    "#4\n",
    "if a == rev:\n",
    "    print(\"Palindrome\")\n",
    "else:\n",
    "    print(\"Not a Palindrome\")"
   ]
  },
  {
   "cell_type": "markdown",
   "id": "7d99b90a",
   "metadata": {},
   "source": [
    "### Challenge\n",
    "\n",
    "1. Find sum of given number as input\n",
    "2. Find sum of positive and negative numbers\n",
    "3. Find maximum numbers from the given numbers\n",
    "4. Convert a Decimal number to a Binary number"
   ]
  },
  {
   "cell_type": "code",
   "execution_count": 37,
   "id": "24745bc0",
   "metadata": {},
   "outputs": [
    {
     "name": "stdout",
     "output_type": "stream",
     "text": [
      "Number of numbers3\n",
      "Enter number1\n",
      "Enter number2\n",
      "Enter number3\n",
      "6\n"
     ]
    }
   ],
   "source": [
    "#1\n",
    "num_of_nos = int(input(\"Number of numbers\"))\n",
    "sum = 0\n",
    "\n",
    "while num_of_nos > 0:\n",
    "    n = int(input(\"Enter number\"))\n",
    "    sum = sum + n\n",
    "    num_of_nos -= 1\n",
    "\n",
    "print(sum)\n",
    "    "
   ]
  },
  {
   "cell_type": "code",
   "execution_count": 41,
   "id": "2442f8a2",
   "metadata": {},
   "outputs": [
    {
     "name": "stdout",
     "output_type": "stream",
     "text": [
      "Number of numbers4\n",
      "Enter number2\n",
      "Enter number-2\n",
      "Enter number2\n",
      "Enter number-2\n",
      "Sum of Positive:  4\n",
      "Sum of Negative:  -4\n"
     ]
    }
   ],
   "source": [
    "#2\n",
    "num_of_nos = int(input(\"Number of numbers\"))\n",
    "sumpos = 0\n",
    "sumneg = 0\n",
    "\n",
    "while num_of_nos > 0:\n",
    "    n = int(input(\"Enter number\"))\n",
    "    num_of_nos -= 1\n",
    "    if n > 0:\n",
    "        sumpos = sumpos + n\n",
    "    else:\n",
    "        sumneg = sumneg + n\n",
    "\n",
    "print(\"Sum of Positive: \", sumpos)\n",
    "print(\"Sum of Negative: \", sumneg)"
   ]
  },
  {
   "cell_type": "code",
   "execution_count": 43,
   "id": "335b2d8e",
   "metadata": {},
   "outputs": [
    {
     "name": "stdout",
     "output_type": "stream",
     "text": [
      "Number of numbers3\n",
      "Enter number-12\n",
      "Current Max is  0\n",
      "Enter number10\n",
      "Current Max is  10\n",
      "Enter number5\n",
      "Current Max is  10\n",
      "Overall Max is  10\n"
     ]
    }
   ],
   "source": [
    "#3\n",
    "num_of_nos = int(input(\"Number of numbers\"))\n",
    "max = 0\n",
    "\n",
    "while num_of_nos > 0:\n",
    "    n = int(input(\"Enter number\"))\n",
    "    num_of_nos -= 1\n",
    "    if n > max:\n",
    "        max = n\n",
    "    print(\"Current Max is \", max)\n",
    "    \n",
    "print(\"Overall Max is \", max)"
   ]
  },
  {
   "cell_type": "code",
   "execution_count": 58,
   "id": "705bf7ff",
   "metadata": {},
   "outputs": [
    {
     "name": "stdout",
     "output_type": "stream",
     "text": [
      "What is your number10\n",
      "r is  0\n",
      "r is  1\n",
      "r is  0\n",
      "r is  1\n",
      "1010\n"
     ]
    }
   ],
   "source": [
    "#4 Binary number converter\n",
    "\n",
    "dec = int(input(\"What is your number\"))\n",
    "bin = 0\n",
    "count = 0\n",
    "\n",
    "while dec != 0:\n",
    "    r = dec % 2 \n",
    "    print(\"r is \", r)\n",
    "    dec = dec // 2\n",
    "    bin = (bin) + r*10**count\n",
    "    count += 1\n",
    "\n",
    "print(bin)\n"
   ]
  },
  {
   "cell_type": "markdown",
   "id": "fc411610",
   "metadata": {},
   "source": [
    "## Guess number Challenge"
   ]
  },
  {
   "cell_type": "code",
   "execution_count": 63,
   "id": "4e9d4061",
   "metadata": {},
   "outputs": [
    {
     "name": "stdout",
     "output_type": "stream",
     "text": [
      "Guess the number5\n",
      "Too low\n",
      "Guess the number7\n",
      "Too low\n",
      "Guess the number8\n",
      "Too low\n",
      "Guess the number9\n",
      "You got it!!!\n"
     ]
    }
   ],
   "source": [
    "import random\n",
    "\n",
    "n = random.randint(1,10)\n",
    "user = 0\n",
    "\n",
    "while user != n:\n",
    "    user = int(input(\"Guess the number\"))\n",
    "    if user < n:\n",
    "        print(\"Too low\")\n",
    "    if user > n:\n",
    "        print(\"Too high\")\n",
    "    if user == n:\n",
    "        print(\"You got it!!!\")\n"
   ]
  },
  {
   "cell_type": "markdown",
   "id": "e7a01baf",
   "metadata": {},
   "source": [
    "### Break, Continue, and Pass"
   ]
  },
  {
   "cell_type": "code",
   "execution_count": 67,
   "id": "6d7b9b4c",
   "metadata": {},
   "outputs": [
    {
     "name": "stdout",
     "output_type": "stream",
     "text": [
      "Enter Number5\n",
      "Number is positive\n",
      "Enter Number-5\n",
      "Number is negative\n",
      "Enter Number0\n"
     ]
    }
   ],
   "source": [
    "#Break, stop an infinite loop\n",
    "while True:\n",
    "    n = int(input(\"Enter Number\"))\n",
    "    if n > 0 :\n",
    "        print(\"Number is positive\")\n",
    "    elif n < 0:\n",
    "        print(\"Number is negative\")\n",
    "    else:\n",
    "        break"
   ]
  },
  {
   "cell_type": "code",
   "execution_count": 75,
   "id": "57e31237",
   "metadata": {},
   "outputs": [
    {
     "name": "stdout",
     "output_type": "stream",
     "text": [
      "1\n",
      "2\n",
      "3\n",
      "4\n",
      "5\n",
      "While Over\n",
      "Program Over\n"
     ]
    }
   ],
   "source": [
    "#Break also breaks the else for while loops\n",
    "\n",
    "n = 0\n",
    "\n",
    "while n < 5:\n",
    "    n += 1\n",
    "    print(n)\n",
    "else:\n",
    "    print(\"While Over\")\n",
    "    \n",
    "print(\"Program Over\")"
   ]
  },
  {
   "cell_type": "code",
   "execution_count": 78,
   "id": "de013c92",
   "metadata": {},
   "outputs": [
    {
     "name": "stdout",
     "output_type": "stream",
     "text": [
      "1\n",
      "2\n",
      "3\n",
      "Program Over\n"
     ]
    }
   ],
   "source": [
    "#Break also breaks the else for while loops\n",
    "\n",
    "n = 0\n",
    "\n",
    "while n < 5:\n",
    "    n += 1\n",
    "    print(n)\n",
    "    if n % 3 == 0:\n",
    "        break\n",
    "else:\n",
    "    print(\"While Over\")\n",
    "    \n",
    "print(\"Program Over\")"
   ]
  },
  {
   "cell_type": "code",
   "execution_count": 71,
   "id": "3e19ad78",
   "metadata": {},
   "outputs": [
    {
     "name": "stdout",
     "output_type": "stream",
     "text": [
      "Enter number3\n",
      "Enter number2\n",
      "2\n",
      "Enter number1\n",
      "1\n",
      "Enter number4\n",
      "4\n"
     ]
    }
   ],
   "source": [
    "#Continue, skip the rest of the instructions below it to go \n",
    "#to the next iteration of loop\n",
    "\n",
    "count = 0\n",
    "\n",
    "while count < 3:\n",
    "    n = int(input(\"Enter number\"))\n",
    "    if n % 3 == 0:\n",
    "        continue\n",
    "    print(n)\n",
    "    count += 1\n"
   ]
  },
  {
   "cell_type": "code",
   "execution_count": 72,
   "id": "effb76e7",
   "metadata": {},
   "outputs": [
    {
     "name": "stdout",
     "output_type": "stream",
     "text": [
      "Enter number3\n",
      "Enter number2\n",
      "2\n",
      "Enter number3\n"
     ]
    }
   ],
   "source": [
    "#Pass, do nothing\n",
    "#Doesn't go back to the top of the loop\n",
    "\n",
    "count = 0\n",
    "\n",
    "while count < 3:\n",
    "    n = int(input(\"Enter number\"))\n",
    "    if n % 3 == 0:\n",
    "        pass\n",
    "    else:\n",
    "        print(n)\n",
    "    count += 1"
   ]
  },
  {
   "cell_type": "markdown",
   "id": "cf8b6bb4",
   "metadata": {},
   "source": [
    "## For Loops\n",
    "\n",
    "for x in list:\n",
    "    print(x)\n",
    "    \n",
    "iterates through list"
   ]
  },
  {
   "cell_type": "code",
   "execution_count": 80,
   "id": "2ab19b44",
   "metadata": {},
   "outputs": [
    {
     "name": "stdout",
     "output_type": "stream",
     "text": [
      "H\n",
      "e\n",
      "l\n",
      "l\n",
      "o\n"
     ]
    }
   ],
   "source": [
    "msg = \"Hello\"\n",
    "\n",
    "for i in msg:\n",
    "    print(i)"
   ]
  },
  {
   "cell_type": "markdown",
   "id": "7e38ee1e",
   "metadata": {},
   "source": [
    "### Range\n",
    "range(0,15): \n",
    "0,1,2,3,4\n",
    "\n",
    "range(4):\n",
    "0,1,2,3\n",
    "\n",
    "range(5,10):\n",
    "5,6,7,8,9\n",
    "\n",
    "range(1,10,2):\n",
    "1,3,5,7,9\n",
    "\n",
    "range(5,0,-1):\n",
    "5,4,3,2,1"
   ]
  },
  {
   "cell_type": "code",
   "execution_count": 82,
   "id": "452cf48c",
   "metadata": {},
   "outputs": [
    {
     "name": "stdout",
     "output_type": "stream",
     "text": [
      "0\n",
      "1\n",
      "2\n",
      "3\n",
      "4\n"
     ]
    }
   ],
   "source": [
    "for i in range(5):\n",
    "    print(i)"
   ]
  },
  {
   "cell_type": "markdown",
   "id": "09976579",
   "metadata": {},
   "source": [
    "### Factorial Challenge\n",
    "\n",
    "1. Display multiplication table for a given number\n",
    "2. Find the factorial of a given number"
   ]
  },
  {
   "cell_type": "code",
   "execution_count": 84,
   "id": "a53afb0e",
   "metadata": {},
   "outputs": [
    {
     "name": "stdout",
     "output_type": "stream",
     "text": [
      "Enter your number5\n",
      "5  X  1  =  5\n",
      "5  X  2  =  10\n",
      "5  X  3  =  15\n",
      "5  X  4  =  20\n",
      "5  X  5  =  25\n",
      "5  X  6  =  30\n",
      "5  X  7  =  35\n",
      "5  X  8  =  40\n",
      "5  X  9  =  45\n",
      "5  X  10  =  50\n"
     ]
    }
   ],
   "source": [
    "#1\n",
    "n = int(input(\"Enter your number\"))\n",
    "\n",
    "for i in range(1,11):\n",
    "    print(n, \" X \", i, \" = \", n * i)"
   ]
  },
  {
   "cell_type": "code",
   "execution_count": 86,
   "id": "7f7f4874",
   "metadata": {},
   "outputs": [
    {
     "name": "stdout",
     "output_type": "stream",
     "text": [
      "Enter your number6\n",
      "720\n"
     ]
    }
   ],
   "source": [
    "#2\n",
    "n = int(input(\"Enter your number\"))\n",
    "factorial = 1\n",
    "\n",
    "for i in range(1,n+1):\n",
    "    factorial = factorial * i\n",
    "    \n",
    "print(factorial)"
   ]
  },
  {
   "cell_type": "markdown",
   "id": "db0b214a",
   "metadata": {},
   "source": [
    "### Challenge\n",
    "\n",
    "1. Print n terms of AP series\n",
    "2. Print n terms of Fibonnaci series"
   ]
  },
  {
   "cell_type": "code",
   "execution_count": 90,
   "id": "d2d5923c",
   "metadata": {},
   "outputs": [
    {
     "name": "stdout",
     "output_type": "stream",
     "text": [
      "Enter starting term5\n",
      "Enter addition term2\n",
      "Enter number of iterations5\n",
      "5\n",
      "7\n",
      "9\n",
      "11\n",
      "13\n"
     ]
    }
   ],
   "source": [
    "#1\n",
    "a = int(input(\"Enter starting term\"))\n",
    "b = int(input(\"Enter addition term\"))\n",
    "c = int(input(\"Enter number of iterations\"))\n",
    "\n",
    "for i in range(c):\n",
    "    print(a)\n",
    "    a += b"
   ]
  },
  {
   "cell_type": "code",
   "execution_count": 110,
   "id": "bfaa7a71",
   "metadata": {},
   "outputs": [
    {
     "name": "stdout",
     "output_type": "stream",
     "text": [
      "0\n",
      "1\n",
      "1\n",
      "2\n",
      "3\n",
      "5\n",
      "8\n",
      "13\n",
      "21\n",
      "34\n"
     ]
    }
   ],
   "source": [
    "# 2\n",
    "a = 0\n",
    "b = 1\n",
    "\n",
    "for i in range(10):\n",
    "    print(a)\n",
    "    c = a + b\n",
    "    a = b \n",
    "    b = c \n",
    "    "
   ]
  },
  {
   "cell_type": "markdown",
   "id": "0d2de6d5",
   "metadata": {},
   "source": [
    "### Challenge Factors of a Number\n",
    "\n",
    "1. Find factors of a number\n",
    "2. Check if a number is prime or not"
   ]
  },
  {
   "cell_type": "code",
   "execution_count": 107,
   "id": "763b5acc",
   "metadata": {},
   "outputs": [
    {
     "name": "stdout",
     "output_type": "stream",
     "text": [
      "Enter number12\n",
      "12\n",
      "6\n",
      "4\n",
      "3\n",
      "2\n",
      "1\n"
     ]
    }
   ],
   "source": [
    "#1 \n",
    "n = int(input(\"Enter number\"))\n",
    "\n",
    "for i in range(n, 0, -1):\n",
    "    if n % i == 0:\n",
    "        print(i)"
   ]
  },
  {
   "cell_type": "code",
   "execution_count": 121,
   "id": "56f2129f",
   "metadata": {},
   "outputs": [
    {
     "name": "stdout",
     "output_type": "stream",
     "text": [
      "Enter number9\n",
      "Not Prime\n"
     ]
    }
   ],
   "source": [
    "#2\n",
    "n = int(input(\"Enter number\"))\n",
    "count = 0\n",
    "\n",
    "for i in range(1, n+1):\n",
    "    if n % i == 0:\n",
    "        count += 1\n",
    "        \n",
    "if count > 2:\n",
    "    print(\"Not Prime\")\n",
    "else:\n",
    "    print(\"Prime\")"
   ]
  },
  {
   "cell_type": "markdown",
   "id": "d6574663",
   "metadata": {},
   "source": [
    "### Challenge Prime Numbers\n",
    "\n",
    "1. Print prime numbers between 0-100"
   ]
  },
  {
   "cell_type": "code",
   "execution_count": 135,
   "id": "2c516225",
   "metadata": {},
   "outputs": [
    {
     "name": "stdout",
     "output_type": "stream",
     "text": [
      "2 Is prime\n",
      "3 Is prime\n",
      "5 Is prime\n",
      "7 Is prime\n",
      "11 Is prime\n",
      "13 Is prime\n",
      "17 Is prime\n",
      "19 Is prime\n",
      "23 Is prime\n",
      "29 Is prime\n",
      "31 Is prime\n",
      "37 Is prime\n",
      "41 Is prime\n",
      "43 Is prime\n",
      "47 Is prime\n",
      "53 Is prime\n",
      "59 Is prime\n",
      "61 Is prime\n",
      "67 Is prime\n",
      "71 Is prime\n",
      "73 Is prime\n",
      "79 Is prime\n",
      "83 Is prime\n",
      "89 Is prime\n",
      "97 Is prime\n"
     ]
    }
   ],
   "source": [
    "count = 0\n",
    "\n",
    "for i in range (1, 100):\n",
    "    for j in range (1, i + 1):\n",
    "        if i % j == 0:\n",
    "            count += 1\n",
    "    if count == 2:\n",
    "        print(i, \"Is prime\")\n",
    "        count = 0\n",
    "    else:\n",
    "        count = 0"
   ]
  },
  {
   "cell_type": "markdown",
   "id": "5fa59371",
   "metadata": {},
   "source": [
    "### Match Case\n",
    "\n",
    "Instead of doing if and elif, use match and cases"
   ]
  },
  {
   "cell_type": "code",
   "execution_count": 140,
   "id": "6df96e29",
   "metadata": {},
   "outputs": [
    {
     "name": "stdout",
     "output_type": "stream",
     "text": [
      "Enter day number3\n",
      "Wednesday\n"
     ]
    }
   ],
   "source": [
    "day = int(input(\"Enter day number\"))\n",
    "\n",
    "if day == 1:\n",
    "    print(\"Monday\")\n",
    "elif day == 2:\n",
    "    print(\"Tuesday\")\n",
    "elif day == 3:\n",
    "    print(\"Wednesday\")\n",
    "elif day == 4:\n",
    "    print(\"Thursday\")\n",
    "elif day == 5:\n",
    "    print(\"Friday\")\n",
    "elif day == 6:\n",
    "    print(\"Saturday\")\n",
    "elif day == 7:\n",
    "    print(\"Sunday\")\n",
    "else:\n",
    "    print(\"Invalid Day\")"
   ]
  },
  {
   "cell_type": "code",
   "execution_count": 143,
   "id": "b772f139",
   "metadata": {},
   "outputs": [
    {
     "ename": "SyntaxError",
     "evalue": "invalid syntax (<ipython-input-143-ac4fa59df302>, line 3)",
     "output_type": "error",
     "traceback": [
      "\u001b[1;36m  File \u001b[1;32m\"<ipython-input-143-ac4fa59df302>\"\u001b[1;36m, line \u001b[1;32m3\u001b[0m\n\u001b[1;33m    match day:\u001b[0m\n\u001b[1;37m          ^\u001b[0m\n\u001b[1;31mSyntaxError\u001b[0m\u001b[1;31m:\u001b[0m invalid syntax\n"
     ]
    }
   ],
   "source": [
    "day = int(input(\"Enter day number\"))\n",
    "\n",
    "match day:\n",
    "    case 1:\n",
    "        print(\"Monday\")\n",
    "    case 2: \n",
    "        print(\"Tuesday\")\n",
    "    case 3: \n",
    "        print(\"Wednesday\")\n",
    "    case 4: \n",
    "        print(\"Thursday\")\n",
    "    case 5: \n",
    "        print(\"Friday\")\n",
    "    case 6: \n",
    "        print(\"Saturday\")\n",
    "    case 7: \n",
    "        print(\"Sunday\")\n",
    "    case _:\n",
    "        print(\"Invalid Day\")"
   ]
  },
  {
   "cell_type": "code",
   "execution_count": null,
   "id": "d759b21f",
   "metadata": {},
   "outputs": [],
   "source": []
  }
 ],
 "metadata": {
  "kernelspec": {
   "display_name": "Python 3",
   "language": "python",
   "name": "python3"
  },
  "language_info": {
   "codemirror_mode": {
    "name": "ipython",
    "version": 3
   },
   "file_extension": ".py",
   "mimetype": "text/x-python",
   "name": "python",
   "nbconvert_exporter": "python",
   "pygments_lexer": "ipython3",
   "version": "3.8.8"
  }
 },
 "nbformat": 4,
 "nbformat_minor": 5
}

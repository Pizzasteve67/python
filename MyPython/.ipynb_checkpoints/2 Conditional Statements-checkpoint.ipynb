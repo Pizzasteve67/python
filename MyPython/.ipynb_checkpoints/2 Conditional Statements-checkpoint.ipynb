{
 "cells": [
  {
   "cell_type": "markdown",
   "id": "4b9ca11b",
   "metadata": {},
   "source": [
    "## Conditional Statements\n",
    "- if\n",
    "- else\n",
    "- elif"
   ]
  },
  {
   "cell_type": "markdown",
   "id": "fb675688",
   "metadata": {},
   "source": [
    "If Conditions\n",
    "\n",
    "if condition:\n",
    "    statement\n",
    "    \n",
    "else:\n",
    "    statement"
   ]
  },
  {
   "cell_type": "code",
   "execution_count": 18,
   "id": "c2c5c2a1",
   "metadata": {},
   "outputs": [
    {
     "name": "stdout",
     "output_type": "stream",
     "text": [
      "Enter value of a4\n",
      "Positive\n"
     ]
    }
   ],
   "source": [
    "a = float(input(\"Enter value of a\"))\n",
    "          \n",
    "if a < 0:\n",
    "    print(\"Negative\")\n",
    "elif a == 0:\n",
    "    print(\"0\")\n",
    "else:\n",
    "    print(\"Positive\")"
   ]
  },
  {
   "cell_type": "markdown",
   "id": "a13f76b7",
   "metadata": {},
   "source": [
    "### Logical Operators\n",
    "- AND\n",
    "- OR\n",
    "- NOT"
   ]
  },
  {
   "cell_type": "markdown",
   "id": "2eac9fed",
   "metadata": {},
   "source": [
    "### Voting Challenge \n",
    "\n",
    "1. Find the Difference between 2 numbers\n",
    "2. Check if number is odd or even\n",
    "3. Check for Age eligibility for casting vote"
   ]
  },
  {
   "cell_type": "code",
   "execution_count": 30,
   "id": "391e3643",
   "metadata": {},
   "outputs": [
    {
     "name": "stdout",
     "output_type": "stream",
     "text": [
      "Enter age of person15\n",
      "1. Age diff is  -3  years\n",
      "2. Odd\n",
      "3. Not Eligible\n"
     ]
    }
   ],
   "source": [
    "#1\n",
    "votingAge = 18\n",
    "age = int(input(\"Enter age of person\"))\n",
    "\n",
    "ageDiff = age - votingAge\n",
    "print(\"1. Age diff is \", ageDiff, \" years\")\n",
    "\n",
    "#2\n",
    "if ageDiff % 2 == 0:\n",
    "    print(\"2. Even\")\n",
    "else:\n",
    "    print(\"2. Odd\")\n",
    "    \n",
    "#3\n",
    "if ageDiff >= 0:\n",
    "    print(\"3. Eligible\")\n",
    "else:\n",
    "    print(\"3. Not Eligible\")"
   ]
  },
  {
   "cell_type": "markdown",
   "id": "61310b37",
   "metadata": {},
   "source": [
    "### Student Challenge\n",
    "\n",
    "1. Check if marks of subject are within range 0-100\n",
    "2. Check if person is Male or Female\n",
    "3. Check if person is eligible to work"
   ]
  },
  {
   "cell_type": "code",
   "execution_count": 36,
   "id": "675c901a",
   "metadata": {},
   "outputs": [
    {
     "name": "stdout",
     "output_type": "stream",
     "text": [
      "Enter Marks90\n",
      "1. Valid\n"
     ]
    }
   ],
   "source": [
    "marks = int(input(\"Enter Marks\"))\n",
    "\n",
    "if marks >= 0 and marks <=100:\n",
    "    print(\"1. Valid\")\n",
    "else:\n",
    "    print(\"1. Invalid\")"
   ]
  },
  {
   "cell_type": "code",
   "execution_count": 42,
   "id": "8f24269c",
   "metadata": {},
   "outputs": [
    {
     "name": "stdout",
     "output_type": "stream",
     "text": [
      "Enter gendermale\n",
      "2. Male\n"
     ]
    }
   ],
   "source": [
    "gender = input(\"Enter gender\")\n",
    "\n",
    "if gender == 'm' or gender == 'M' or gender == 'Male' or gender == 'male':\n",
    "    print(\"2. Male\")\n",
    "else:\n",
    "    print(\"2. Female\")"
   ]
  },
  {
   "cell_type": "code",
   "execution_count": 45,
   "id": "a65a4256",
   "metadata": {},
   "outputs": [
    {
     "name": "stdout",
     "output_type": "stream",
     "text": [
      "Enter your age26\n",
      "3. Eligible\n"
     ]
    }
   ],
   "source": [
    "#working years is 18 - 60\n",
    "\n",
    "ageperson = int(input(\"Enter your age\"))\n",
    "\n",
    "if ageperson >= 18 and ageperson <= 60:\n",
    "    print(\"3. Eligible\")\n",
    "else:\n",
    "    print(\"3. Not Eligible\")"
   ]
  },
  {
   "cell_type": "markdown",
   "id": "40eba9f2",
   "metadata": {},
   "source": [
    "### Student Challenge 3\n",
    "\n",
    "1. Check if student pass 3 subjects (Passing grade is 45)\n",
    "2. Check if person is authorised for admin access\n",
    "3. Check if a given lower case character is a vowel or consonant"
   ]
  },
  {
   "cell_type": "code",
   "execution_count": 47,
   "id": "c43aeeb8",
   "metadata": {},
   "outputs": [
    {
     "name": "stdout",
     "output_type": "stream",
     "text": [
      "Enter math grade30\n",
      "Enter physics grade90\n",
      "Enter chem grade100\n",
      "1. Fail\n"
     ]
    }
   ],
   "source": [
    "math = int(input(\"Enter math grade\"))\n",
    "physics = int(input(\"Enter physics grade\"))\n",
    "chem = int(input(\"Enter chem grade\"))\n",
    "\n",
    "if math >= 45 and physics >= 45 and chem >= 45:\n",
    "    print(\"1. Pass\")\n",
    "else:\n",
    "    print(\"1. Fail\")"
   ]
  },
  {
   "cell_type": "code",
   "execution_count": 51,
   "id": "dbb18f21",
   "metadata": {},
   "outputs": [
    {
     "name": "stdout",
     "output_type": "stream",
     "text": [
      "Enter your usernamejohn\n",
      "2. Authorized\n"
     ]
    }
   ],
   "source": [
    "#Only John and Smith are admins\n",
    "\n",
    "username = input(\"Enter your username\")\n",
    "\n",
    "if username == \"john\" or username == \"smith\":\n",
    "    print(\"2. Authorized\")\n",
    "else:\n",
    "    print(\"2. Not Authorized\")\n"
   ]
  },
  {
   "cell_type": "code",
   "execution_count": 53,
   "id": "032bdd88",
   "metadata": {},
   "outputs": [
    {
     "name": "stdout",
     "output_type": "stream",
     "text": [
      "Enter a lowercase letterw\n",
      "3. Consonant\n"
     ]
    }
   ],
   "source": [
    "ch = input(\"Enter a lowercase letter\")\n",
    "\n",
    "if ch == \"a\" or ch ==\"e\" or ch == \"i\" or ch == \"0\" or ch == \"u\":\n",
    "    print(\"3. Vowel\")\n",
    "else:\n",
    "    print(\"3. Consonant\")\n",
    "    "
   ]
  },
  {
   "cell_type": "markdown",
   "id": "6b86bc27",
   "metadata": {},
   "source": [
    "## Elif\n",
    "\n",
    "if john > smith and john > ajay:\n",
    "    print(\"John is eldest\")\n",
    "elif smith > ajay:\n",
    "    print(\"Smith is eldest\")\n",
    "else:\n",
    "    print(\"ajay is eldest\")"
   ]
  },
  {
   "cell_type": "code",
   "execution_count": 3,
   "id": "52e0b7d0",
   "metadata": {},
   "outputs": [
    {
     "name": "stdout",
     "output_type": "stream",
     "text": [
      "What is john's age5\n",
      "What is smith's age9\n",
      "What is ajay's age8\n",
      "smith is eldest\n"
     ]
    }
   ],
   "source": [
    "john = int(input(\"What is john's age\"))\n",
    "smith = int(input(\"What is smith's age\"))\n",
    "ajay = int(input(\"What is ajay's age\"))\n",
    "\n",
    "if john > smith and john > ajay:\n",
    "    print(\"john is eldest\")\n",
    "elif smith > ajay:\n",
    "    print(\"smith is eldest\")\n",
    "else:\n",
    "    print(\"ajay is eldest\")"
   ]
  },
  {
   "cell_type": "markdown",
   "id": "3a214367",
   "metadata": {},
   "source": [
    "### Discount Amount Challenge\n",
    "\n",
    "Calculate discounted amount\n",
    "\n",
    "- 10% if amount is less than 1000 br\n",
    "- 20% is amount is more than 1000 and less than or equal to 5000\n",
    "- 30% if amount is more than 5000 and less than or equal to 10000\n",
    "- 50% if amount is more than 10000"
   ]
  },
  {
   "cell_type": "code",
   "execution_count": 7,
   "id": "c142e298",
   "metadata": {},
   "outputs": [
    {
     "name": "stdout",
     "output_type": "stream",
     "text": [
      "what is the amount800\n",
      "10%\n"
     ]
    }
   ],
   "source": [
    "amt = int(input(\"what is the amount\"))\n",
    "\n",
    "if amt < 1000:\n",
    "    print(\"10%\")\n",
    "elif amt > 1000 and amt <= 5000:\n",
    "    print(\"20%\")\n",
    "elif amt > 5000 and amt <= 10000:\n",
    "    print(\"30%\")\n",
    "else:\n",
    "    print(\"50%\")"
   ]
  },
  {
   "cell_type": "markdown",
   "id": "30fb481d",
   "metadata": {},
   "source": [
    "### Leap year Challenge\n",
    "\n",
    "- If year is divided by 4, it is leap year\n",
    "- Century years like 300, 700, 1900, 2100 are not leap years \n",
    "- Except for years which are both divisible by 100 and not divisible by 400"
   ]
  },
  {
   "cell_type": "code",
   "execution_count": 15,
   "id": "163c84f1",
   "metadata": {},
   "outputs": [
    {
     "name": "stdout",
     "output_type": "stream",
     "text": [
      "What year is it1600\n",
      "Leap year!!!\n"
     ]
    }
   ],
   "source": [
    "year = int(input(\"What year is it\"))\n",
    "\n",
    "if year % 100 == 0 and year % 400 == 0 and year % 4 == 0:\n",
    "    print(\"Leap year!!!\")\n",
    "elif year % 4 == 0 and year % 100 != 0:\n",
    "    print(\"Leap year!!!\")\n",
    "else: \n",
    "    print(\"Not a Leap year\")\n"
   ]
  },
  {
   "cell_type": "code",
   "execution_count": 21,
   "id": "47fdfd8d",
   "metadata": {},
   "outputs": [
    {
     "name": "stdout",
     "output_type": "stream",
     "text": [
      "1010\n",
      "0b1010\n"
     ]
    }
   ],
   "source": [
    "# Get binary form of a number\n",
    "a = 10\n",
    "print(format(a, 'b'))\n",
    "\n",
    "print(bin(a))"
   ]
  },
  {
   "cell_type": "code",
   "execution_count": 22,
   "id": "081147ea",
   "metadata": {},
   "outputs": [
    {
     "data": {
      "text/plain": [
       "8"
      ]
     },
     "execution_count": 22,
     "metadata": {},
     "output_type": "execute_result"
    }
   ],
   "source": [
    "10 & 13"
   ]
  },
  {
   "cell_type": "markdown",
   "id": "2dd737cb",
   "metadata": {},
   "source": [
    "### Is, Is not\n",
    "\n",
    "a = 10\n",
    "b = 10\n",
    "\n",
    "a is b == True\n",
    "If they are referring to the same memory space, then \"is\" is True\n",
    "\n",
    "id(a) shows you the memory index of a, likewise for b "
   ]
  },
  {
   "cell_type": "code",
   "execution_count": 29,
   "id": "f0c29875",
   "metadata": {},
   "outputs": [
    {
     "name": "stdout",
     "output_type": "stream",
     "text": [
      "140729118763088\n",
      "1844618714032\n",
      "False\n"
     ]
    }
   ],
   "source": [
    "a = 10\n",
    "b = 20/2\n",
    "\n",
    "a is b\n",
    "print(id(a))\n",
    "print(id(b))\n",
    "print(a is b)"
   ]
  },
  {
   "cell_type": "code",
   "execution_count": 28,
   "id": "89abb09d",
   "metadata": {},
   "outputs": [
    {
     "name": "stdout",
     "output_type": "stream",
     "text": [
      "enter a value10\n",
      "enter a value10\n",
      "1844618952496\n",
      "1844618949232\n",
      "False\n"
     ]
    }
   ],
   "source": [
    "a = input(\"enter a value\")\n",
    "b = input(\"enter a value\")\n",
    "\n",
    "print(id(a))\n",
    "print(id(b))\n",
    "print(a is b)"
   ]
  },
  {
   "cell_type": "code",
   "execution_count": 27,
   "id": "5252bd5a",
   "metadata": {},
   "outputs": [
    {
     "name": "stdout",
     "output_type": "stream",
     "text": [
      "enter a value10\n",
      "enter a value10\n",
      "140729118763088\n",
      "140729118763088\n",
      "True\n"
     ]
    }
   ],
   "source": [
    "# The int command forces the same memory space\n",
    "a = int(input(\"enter a value\"))\n",
    "b = int(input(\"enter a value\"))\n",
    "\n",
    "print(id(a))\n",
    "print(id(b))\n",
    "print(a is b)"
   ]
  },
  {
   "cell_type": "code",
   "execution_count": null,
   "id": "b67fa4a7",
   "metadata": {},
   "outputs": [],
   "source": []
  }
 ],
 "metadata": {
  "kernelspec": {
   "display_name": "Python 3",
   "language": "python",
   "name": "python3"
  },
  "language_info": {
   "codemirror_mode": {
    "name": "ipython",
    "version": 3
   },
   "file_extension": ".py",
   "mimetype": "text/x-python",
   "name": "python",
   "nbconvert_exporter": "python",
   "pygments_lexer": "ipython3",
   "version": "3.8.8"
  }
 },
 "nbformat": 4,
 "nbformat_minor": 5
}

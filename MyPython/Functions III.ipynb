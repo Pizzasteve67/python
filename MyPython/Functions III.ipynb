{
 "cells": [
  {
   "cell_type": "markdown",
   "id": "f608e8e7",
   "metadata": {},
   "source": [
    "### More on Functions\n",
    "\n",
    "Functions in python are stored as objects <br>\n",
    "You can store variables as that function"
   ]
  },
  {
   "cell_type": "code",
   "execution_count": 2,
   "id": "edfaae3f",
   "metadata": {},
   "outputs": [
    {
     "name": "stdout",
     "output_type": "stream",
     "text": [
      "Hello\n",
      "Hello\n"
     ]
    }
   ],
   "source": [
    "def display():\n",
    "    print('Hello')\n",
    "    \n",
    "display()\n",
    "d = display\n",
    "d()"
   ]
  },
  {
   "cell_type": "markdown",
   "id": "9bea3558",
   "metadata": {},
   "source": [
    "### Nested Functions\n",
    "\n",
    "You can also define a function within a function <br>\n",
    "The inner function can only be called while inside the outer function and not globally\n"
   ]
  },
  {
   "cell_type": "code",
   "execution_count": 5,
   "id": "9881d656",
   "metadata": {},
   "outputs": [
    {
     "name": "stdout",
     "output_type": "stream",
     "text": [
      "I am inner function\n",
      "I am inner function\n"
     ]
    },
    {
     "ename": "NameError",
     "evalue": "name 'inner' is not defined",
     "output_type": "error",
     "traceback": [
      "\u001b[1;31m---------------------------------------------------------------------------\u001b[0m",
      "\u001b[1;31mNameError\u001b[0m                                 Traceback (most recent call last)",
      "\u001b[1;32m<ipython-input-5-fa878cb5230c>\u001b[0m in \u001b[0;36m<module>\u001b[1;34m\u001b[0m\n\u001b[0;32m      7\u001b[0m \u001b[0mouter\u001b[0m\u001b[1;33m(\u001b[0m\u001b[1;33m)\u001b[0m\u001b[1;33m\u001b[0m\u001b[1;33m\u001b[0m\u001b[0m\n\u001b[0;32m      8\u001b[0m \u001b[1;33m\u001b[0m\u001b[0m\n\u001b[1;32m----> 9\u001b[1;33m \u001b[0minner\u001b[0m\u001b[1;33m(\u001b[0m\u001b[1;33m)\u001b[0m\u001b[1;33m\u001b[0m\u001b[1;33m\u001b[0m\u001b[0m\n\u001b[0m",
      "\u001b[1;31mNameError\u001b[0m: name 'inner' is not defined"
     ]
    }
   ],
   "source": [
    "def outer():\n",
    "    def inner():\n",
    "        print(\"I am inner function\")\n",
    "    inner()\n",
    "    inner()\n",
    "\n",
    "outer()\n",
    "\n",
    "inner()"
   ]
  },
  {
   "cell_type": "markdown",
   "id": "ca4e5ce6",
   "metadata": {},
   "source": [
    "### Function as Parameter\n",
    "You can pass functions to other functions as parameters"
   ]
  },
  {
   "cell_type": "code",
   "execution_count": 8,
   "id": "54d2e655",
   "metadata": {},
   "outputs": [
    {
     "name": "stdout",
     "output_type": "stream",
     "text": [
      "Hello World\n"
     ]
    }
   ],
   "source": [
    "def display():\n",
    "    print('Hello World')\n",
    "    \n",
    "def fun(d):\n",
    "    d()\n",
    "    \n",
    "fun(display)"
   ]
  },
  {
   "cell_type": "code",
   "execution_count": 11,
   "id": "d1d719e7",
   "metadata": {},
   "outputs": [
    {
     "name": "stdout",
     "output_type": "stream",
     "text": [
      "2\n",
      "8\n"
     ]
    }
   ],
   "source": [
    "def add(x, y):\n",
    "    print(x+y)\n",
    "    \n",
    "def sub(x, y):\n",
    "    print(x-y)\n",
    "    \n",
    "def fun(f, x, y):\n",
    "    f(x,y)\n",
    "    \n",
    "fun(sub,5,3)\n",
    "fun(add,5,3)"
   ]
  },
  {
   "cell_type": "markdown",
   "id": "aa2bb135",
   "metadata": {},
   "source": [
    "### Function Returning a Function\n",
    "\n",
    "Function Factory"
   ]
  },
  {
   "cell_type": "code",
   "execution_count": 20,
   "id": "0ee43e64",
   "metadata": {},
   "outputs": [
    {
     "name": "stdout",
     "output_type": "stream",
     "text": [
      "Hello World\n"
     ]
    }
   ],
   "source": [
    "def outer():\n",
    "    def display():\n",
    "        print('Hello World')\n",
    "        \n",
    "    return display\n",
    "\n",
    "d = outer()\n",
    "d()  # d here is returning the display() function "
   ]
  },
  {
   "attachments": {
    "image.png": {
     "image/png": "[encoded data removed]"
    }
   },
   "cell_type": "markdown",
   "id": "3e27deb7",
   "metadata": {},
   "source": [
    "### Closure Function\n",
    "\n",
    "![image.png](attachment:image.png)"
   ]
  },
  {
   "cell_type": "code",
   "execution_count": 21,
   "id": "8dd92e64",
   "metadata": {},
   "outputs": [
    {
     "name": "stdout",
     "output_type": "stream",
     "text": [
      "**********\n",
      "Hello\n",
      "**********\n"
     ]
    }
   ],
   "source": [
    "def closure():\n",
    "    msg = 'Hello'\n",
    "    def display():        # Nested Function\n",
    "        print('*' * 10)\n",
    "        print(msg)        # Accessing Non local variable\n",
    "        print('*' * 10)\n",
    "        \n",
    "    return display        # Return Nested Function\n",
    "\n",
    "d = closure()\n",
    "d()"
   ]
  },
  {
   "cell_type": "code",
   "execution_count": 22,
   "id": "5bd618b0",
   "metadata": {},
   "outputs": [
    {
     "name": "stdout",
     "output_type": "stream",
     "text": [
      "**********\n",
      "Hello World\n",
      "**********\n"
     ]
    }
   ],
   "source": [
    "def closure(msg):\n",
    "\n",
    "    def display():        # Nested Function\n",
    "        print('*' * 10)\n",
    "        print(msg)        # Accessing Non local variable\n",
    "        print('*' * 10)\n",
    "        \n",
    "    return display        # Return Nested Function\n",
    "\n",
    "d = closure('Hello World')\n",
    "d()"
   ]
  },
  {
   "cell_type": "markdown",
   "id": "9853c87e",
   "metadata": {},
   "source": [
    "### You can write a caller class as a closure function"
   ]
  },
  {
   "cell_type": "code",
   "execution_count": 26,
   "id": "2bd9a719",
   "metadata": {},
   "outputs": [
    {
     "name": "stdout",
     "output_type": "stream",
     "text": [
      "Human Resource Department\n",
      "Accounts and Finance Department\n"
     ]
    }
   ],
   "source": [
    "def Depts():\n",
    "    depts = {'hr': 'Human Resource Department',\n",
    "            'acc': 'Accounts and Finance Department',\n",
    "            'sd': 'Sales and Marketing Department',\n",
    "            'mkt': 'Marketing Department'}\n",
    "    def dname(dept):\n",
    "        return depts[dept]\n",
    "    \n",
    "    return dname\n",
    "\n",
    "d = Depts()\n",
    "s = d('hr')\n",
    "print(s)\n",
    "print(d('acc'))"
   ]
  },
  {
   "attachments": {
    "image.png": {
     "image/png": "[encoded data removed]"
    }
   },
   "cell_type": "markdown",
   "id": "19b9828d",
   "metadata": {},
   "source": [
    "### Decorator Function\n",
    "![image.png](attachment:image.png)"
   ]
  },
  {
   "cell_type": "code",
   "execution_count": 40,
   "id": "ab414d14",
   "metadata": {},
   "outputs": [
    {
     "name": "stdout",
     "output_type": "stream",
     "text": [
      "a\n",
      "Hello\n",
      "b\n"
     ]
    }
   ],
   "source": [
    "def decorator(fun):\n",
    "    def wrapper(msg):\n",
    "        print('a')\n",
    "        fun(msg)\n",
    "        print('b')\n",
    "    \n",
    "    return wrapper\n",
    "        \n",
    "def display(msg):\n",
    "    print(msg)\n",
    "    \n",
    "d = decorator(display)\n",
    "d('Hello')"
   ]
  },
  {
   "attachments": {
    "image.png": {
     "image/png": "[encoded data removed]"
    }
   },
   "cell_type": "markdown",
   "id": "a46228cb",
   "metadata": {},
   "source": [
    "### Lambda Functions\n",
    "![image.png](attachment:image.png)"
   ]
  },
  {
   "cell_type": "code",
   "execution_count": 41,
   "id": "b7f59140",
   "metadata": {},
   "outputs": [
    {
     "name": "stdout",
     "output_type": "stream",
     "text": [
      "16.0\n"
     ]
    }
   ],
   "source": [
    "# How we write regular functions these days look like this\n",
    "\n",
    "def miles2km(miles):\n",
    "    kms = miles * 1.6\n",
    "    return kms\n",
    "\n",
    "print(miles2km(10))"
   ]
  },
  {
   "cell_type": "code",
   "execution_count": 42,
   "id": "a861b6e5",
   "metadata": {},
   "outputs": [
    {
     "name": "stdout",
     "output_type": "stream",
     "text": [
      "16.0\n"
     ]
    }
   ],
   "source": [
    "# Instead of writing the function like that, I can write it in a lambda function\n",
    "\n",
    "k = lambda miles: 1.6*miles\n",
    "print(k(10))\n",
    "\n",
    "# For lambda functions, you store the lambda function as a variable \n",
    "# Then you feed params into that variable\n",
    "\n",
    "# lambda miles: replaces miles2km(miles):\n",
    "\n"
   ]
  },
  {
   "cell_type": "code",
   "execution_count": 45,
   "id": "3f33cee9",
   "metadata": {},
   "outputs": [
    {
     "data": {
      "text/plain": [
       "15"
      ]
     },
     "execution_count": 45,
     "metadata": {},
     "output_type": "execute_result"
    }
   ],
   "source": [
    "# Another example of adding 2 numbers \n",
    "\n",
    "def add(a,b):\n",
    "    c = a + b\n",
    "    return c\n",
    "\n",
    "c = lambda a,b : a + b  # Rewriting the above as lambda function\n",
    "c(10,5)"
   ]
  },
  {
   "cell_type": "code",
   "execution_count": 47,
   "id": "8bb6d259",
   "metadata": {},
   "outputs": [
    {
     "data": {
      "text/plain": [
       "15"
      ]
     },
     "execution_count": 47,
     "metadata": {},
     "output_type": "execute_result"
    }
   ],
   "source": [
    "f = lambda a,b : a if a>b else b  # return a if a > b, else return b\n",
    "\n",
    "f(15,10)"
   ]
  },
  {
   "cell_type": "code",
   "execution_count": null,
   "id": "8cd9e576",
   "metadata": {},
   "outputs": [],
   "source": []
  }
 ],
 "metadata": {
  "kernelspec": {
   "display_name": "Python 3",
   "language": "python",
   "name": "python3"
  },
  "language_info": {
   "codemirror_mode": {
    "name": "ipython",
    "version": 3
   },
   "file_extension": ".py",
   "mimetype": "text/x-python",
   "name": "python",
   "nbconvert_exporter": "python",
   "pygments_lexer": "ipython3",
   "version": "3.8.8"
  }
 },
 "nbformat": 4,
 "nbformat_minor": 5
}
